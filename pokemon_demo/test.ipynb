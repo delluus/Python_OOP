{
 "cells": [
  {
   "cell_type": "code",
   "execution_count": 1,
   "metadata": {},
   "outputs": [],
   "source": [
    "from poke import Pokemon"
   ]
  },
  {
   "cell_type": "code",
   "execution_count": 2,
   "metadata": {},
   "outputs": [],
   "source": [
    "josh = Pokemon(name='josh', primary_type=\"grass\", max_hp=100)\n",
    "luke = Pokemon(name='luke', primary_type=\"fire\", max_hp=150)\n",
    "test = Pokemon(name='test', primary_type='water', max_hp=50)\n"
   ]
  },
  {
   "cell_type": "code",
   "execution_count": 3,
   "metadata": {},
   "outputs": [
    {
     "name": "stdout",
     "output_type": "stream",
     "text": [
      "josh's health is full\n"
     ]
    }
   ],
   "source": [
    "josh.feed()"
   ]
  },
  {
   "cell_type": "code",
   "execution_count": 4,
   "metadata": {},
   "outputs": [
    {
     "name": "stdout",
     "output_type": "stream",
     "text": [
      "josh (grass): 100/100\n",
      "luke (fire): 150/150\n",
      "test (water): 50/50\n",
      "Battle: josh, luke\n",
      "Result of battle: josh get's a loss\n",
      "josh (grass): 95/100\n",
      "Battle: josh, test\n",
      "Result of battle: josh get's a win\n",
      "josh (grass): 95/100\n",
      "test (water): 40/50\n"
     ]
    }
   ],
   "source": [
    "print(josh)\n",
    "print(luke)\n",
    "print(test)\n",
    "\n",
    "josh.battle(luke)\n",
    "print(josh)\n",
    "josh.battle(test)\n",
    "print(josh)\n",
    "print(test)\n"
   ]
  }
 ],
 "metadata": {
  "kernelspec": {
   "display_name": "Python 3.10.5 ('VirtEnv')",
   "language": "python",
   "name": "python3"
  },
  "language_info": {
   "codemirror_mode": {
    "name": "ipython",
    "version": 3
   },
   "file_extension": ".py",
   "mimetype": "text/x-python",
   "name": "python",
   "nbconvert_exporter": "python",
   "pygments_lexer": "ipython3",
   "version": "3.10.5"
  },
  "orig_nbformat": 4,
  "vscode": {
   "interpreter": {
    "hash": "5e109918432beb16e820c88ce94a6d2def01cb89952c2791fafb28d81b6c1e0a"
   }
  }
 },
 "nbformat": 4,
 "nbformat_minor": 2
}
